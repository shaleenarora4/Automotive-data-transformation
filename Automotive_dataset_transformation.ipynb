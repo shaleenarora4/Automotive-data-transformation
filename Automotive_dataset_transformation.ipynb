{
	"metadata": {
		"kernelspec": {
			"name": "glue_pyspark",
			"display_name": "Glue PySpark",
			"language": "python"
		},
		"language_info": {
			"name": "Python_Glue_Session",
			"mimetype": "text/x-python",
			"codemirror_mode": {
				"name": "python",
				"version": 3
			},
			"pygments_lexer": "python3",
			"file_extension": ".py"
		}
	},
	"nbformat_minor": 4,
	"nbformat": 4,
	"cells": [
		{
			"cell_type": "markdown",
			"source": "# AWS Glue Studio Notebook\n##### You are now running a AWS Glue Studio notebook; To start using your notebook you need to start an AWS Glue Interactive Session.\n",
			"metadata": {
				"editable": true,
				"trusted": true
			}
		},
		{
			"cell_type": "markdown",
			"source": "#### Optional: Run this cell to see available notebook commands (\"magics\").\n",
			"metadata": {
				"editable": true,
				"trusted": true
			}
		},
		{
			"cell_type": "code",
			"source": "%help",
			"metadata": {
				"trusted": true,
				"editable": true
			},
			"execution_count": null,
			"outputs": []
		},
		{
			"cell_type": "markdown",
			"source": "####  Run this cell to set up and start your interactive session.\n",
			"metadata": {
				"editable": true,
				"trusted": true
			}
		},
		{
			"cell_type": "code",
			"source": "%idle_timeout 2880\n%glue_version 3.0\n%worker_type G.1X\n%number_of_workers 5\n\nimport sys\nfrom awsglue.transforms import *\nfrom awsglue.utils import getResolvedOptions\nfrom pyspark.context import SparkContext\nfrom awsglue.context import GlueContext\nfrom awsglue.job import Job\n  \nsc = SparkContext.getOrCreate()\nglueContext = GlueContext(sc)\nspark = glueContext.spark_session\njob = Job(glueContext)",
			"metadata": {
				"trusted": true,
				"editable": true
			},
			"execution_count": 1,
			"outputs": [
				{
					"name": "stdout",
					"text": "Welcome to the Glue Interactive Sessions Kernel\nFor more information on available magic commands, please type %help in any new cell.\n\nPlease view our Getting Started page to access the most up-to-date information on the Interactive Sessions kernel: https://docs.aws.amazon.com/glue/latest/dg/interactive-sessions.html\nInstalled kernel version: 0.38.1 \nCurrent idle_timeout is 2800 minutes.\nidle_timeout has been set to 2880 minutes.\nSetting Glue version to: 3.0\nPrevious worker type: G.1X\nSetting new worker type to: G.1X\nPrevious number of workers: 5\nSetting new number of workers to: 5\nAuthenticating with environment variables and user-defined glue_role_arn: arn:aws:iam::565258093567:role/s3-glue-role\nTrying to create a Glue session for the kernel.\nWorker Type: G.1X\nNumber of Workers: 5\nSession ID: 147c5320-447d-4679-9fcb-7f4bca01adf0\nJob Type: glueetl\nApplying the following default arguments:\n--glue_kernel_version 0.38.1\n--enable-glue-datacatalog true\nWaiting for session 147c5320-447d-4679-9fcb-7f4bca01adf0 to get into ready status...\nSession 147c5320-447d-4679-9fcb-7f4bca01adf0 has been created.\n\n",
					"output_type": "stream"
				}
			]
		},
		{
			"cell_type": "markdown",
			"source": "#### Reading data in dynamic df and coverting into spark df\n",
			"metadata": {
				"editable": true,
				"trusted": true
			}
		},
		{
			"cell_type": "code",
			"source": "base_df = glueContext.create_dynamic_frame.from_catalog(database='de-automotive-db', table_name='de_automotive_raw_ap_south_1')\nbase_df = base_df.toDF()",
			"metadata": {
				"trusted": true,
				"editable": true
			},
			"execution_count": 2,
			"outputs": [
				{
					"name": "stdout",
					"text": "\n",
					"output_type": "stream"
				}
			]
		},
		{
			"cell_type": "markdown",
			"source": "#### Selecting required columns and filtering data\n",
			"metadata": {
				"editable": true,
				"trusted": true
			}
		},
		{
			"cell_type": "code",
			"source": "used_veh_df = base_df.select('vin', 'firstseen', 'msrp', 'lastseen', 'askprice', 'mileage', 'isnew', 'brandname', 'dealerid', 'vf_destinationmarket', 'vf_make', 'vf_model', 'vf_modelyear')\\\n                     .filter(base_df.isnew == 'FALSE')\nused_veh_df.show(5)",
			"metadata": {
				"trusted": true,
				"editable": true
			},
			"execution_count": 3,
			"outputs": [
				{
					"name": "stdout",
					"text": "+--------------------+----------+-----+----------+--------+-------+-----+----------+--------+--------------------+----------+--------------+------------+\n|                 vin| firstseen| msrp|  lastseen|askprice|mileage|isnew| brandname|dealerid|vf_destinationmarket|   vf_make|      vf_model|vf_modelyear|\n+--------------------+----------+-----+----------+--------+-------+-----+----------+--------+--------------------+----------+--------------+------------+\n|abc5f0360059cf7b6...|2019-05-06| 1498|2019-05-06|    1498|      0|false|MITSUBISHI|    7514|                    |MITSUBISHI|Eclipse Spyder|        2002|\n|e24402cc77f6fd2d6...|2019-05-06|10589|2019-05-06|   10589|      0|false|    NISSAN|    7514|                    |    NISSAN|        Altima|        2016|\n|1c5a8dc966b3d3b37...|2017-06-03|11992|2019-05-07|    9940|      0|false|      FORD|    7514|                    |      FORD|        Escape|        2014|\n|edce23814c88f5a1d...|2019-05-06|12387|2019-05-07|   12387|      0|false| CHEVROLET|    7514|                    | CHEVROLET|         Cruze|        2017|\n|7a7752d920ebee107...|2019-05-07|12970|2019-05-07|   12970|      0|false|      FORD|    7514|                    |      FORD|        Fusion|        2017|\n+--------------------+----------+-----+----------+--------+-------+-----+----------+--------+--------------------+----------+--------------+------------+\nonly showing top 5 rows\n",
					"output_type": "stream"
				}
			]
		},
		{
			"cell_type": "code",
			"source": "from pyspark.sql.functions import when\nused_veh_df = used_veh_df.withColumn(\"mileage_bucket\",\n     when((used_veh_df.mileage >= 0) & (used_veh_df.mileage < 20000), \"Btw 0-20k\")\n    .when((used_veh_df.mileage >= 20000) & (used_veh_df.mileage < 40000), \"Btw 20-40k\")\n    .when((used_veh_df.mileage >= 40000) & (used_veh_df.mileage < 60000), \"Btw 40-60k\")\n    .when((used_veh_df.mileage >= 60000) & (used_veh_df.mileage < 80000), \"Btw 60-80k\")\n    .otherwise(\">80K\"))\nused_veh_df.show(10)                                  ",
			"metadata": {
				"trusted": true
			},
			"execution_count": 4,
			"outputs": [
				{
					"name": "stdout",
					"text": "+--------------------+----------+-----+----------+--------+-------+-----+----------+--------+--------------------+----------+--------------+------------+--------------+\n|                 vin| firstseen| msrp|  lastseen|askprice|mileage|isnew| brandname|dealerid|vf_destinationmarket|   vf_make|      vf_model|vf_modelyear|mileage_bucket|\n+--------------------+----------+-----+----------+--------+-------+-----+----------+--------+--------------------+----------+--------------+------------+--------------+\n|abc5f0360059cf7b6...|2019-05-06| 1498|2019-05-06|    1498|      0|false|MITSUBISHI|    7514|                    |MITSUBISHI|Eclipse Spyder|        2002|     Btw 0-20k|\n|e24402cc77f6fd2d6...|2019-05-06|10589|2019-05-06|   10589|      0|false|    NISSAN|    7514|                    |    NISSAN|        Altima|        2016|     Btw 0-20k|\n|1c5a8dc966b3d3b37...|2017-06-03|11992|2019-05-07|    9940|      0|false|      FORD|    7514|                    |      FORD|        Escape|        2014|     Btw 0-20k|\n|edce23814c88f5a1d...|2019-05-06|12387|2019-05-07|   12387|      0|false| CHEVROLET|    7514|                    | CHEVROLET|         Cruze|        2017|     Btw 0-20k|\n|7a7752d920ebee107...|2019-05-07|12970|2019-05-07|   12970|      0|false|      FORD|    7514|                    |      FORD|        Fusion|        2017|     Btw 0-20k|\n|ec634358248242175...|2019-05-07|15218|2019-05-07|   15218|      0|false|      FORD|    7514|                    |      FORD|        Escape|        2018|     Btw 0-20k|\n|f64e8bdce175d66b9...|2019-05-07|18755|2019-05-07|   18755|      0|false|      FORD|    7514|                    |      FORD|          Flex|        2018|     Btw 0-20k|\n|45c4fc09de25f741e...|2019-05-07|36999|2019-05-07|   36999|      0|false|      FORD|    7514|                    |      FORD|      Explorer|        2018|     Btw 0-20k|\n|f24a5358ce834ef52...|2019-05-07|14496|2019-05-08|   14496|      0|false|      JEEP|    7514|                    |      JEEP|      Renegade|        2016|     Btw 0-20k|\n|d719f73e9f670abb6...|2019-05-06|10222|2019-05-09|   10222|      0|false|      FORD|    7514|                    |      FORD|        Fiesta|        2016|     Btw 0-20k|\n+--------------------+----------+-----+----------+--------+-------+-----+----------+--------+--------------------+----------+--------------+------------+--------------+\nonly showing top 10 rows\n",
					"output_type": "stream"
				}
			]
		},
		{
			"cell_type": "markdown",
			"source": "#### Backfilling and Frontfilling askprice\n##### Populating price from the price seen on next date or price seen on the previos date for the same vin",
			"metadata": {}
		},
		{
			"cell_type": "code",
			"source": "from pyspark.sql.window import Window\nfrom pyspark.sql.functions import row_number,col,lead,lag,coalesce\n\nprice_cnd = Window.partitionBy(\"vin\").orderBy(\"lastseen\")\nused_veh_df = used_veh_df. \\\n                withColumn('bf_askprice', lead('askprice').over(price_cnd)). \\\n                withColumn('ff_askprice', lag('askprice').over(price_cnd))        \nused_veh_df = used_veh_df.select('vin', \\\n                                 'firstseen', \\\n                                'msrp', \\\n                                 coalesce('askprice','bf_askprice','ff_askprice').alias('askprice'), \\\n                                 'lastseen', \\\n                                 'mileage', \\\n                                 'isnew', \\\n                                 'brandname', \\\n                                 'dealerid', \\\n                                 'vf_destinationmarket', \\\n                                 'vf_make', \\\n                                 'vf_model', \\\n                                 'vf_modelyear', \\\n                                 'mileage_bucket')\n\nused_veh_df.show(10)        ",
			"metadata": {
				"trusted": true,
				"tags": []
			},
			"execution_count": 11,
			"outputs": [
				{
					"name": "stdout",
					"text": "+--------------------+----------+-----+--------+----------+-------+-----+---------+--------+--------------------+--------+--------+------------+--------------+\n|                 vin| firstseen| msrp|askprice|  lastseen|mileage|isnew|brandname|dealerid|vf_destinationmarket| vf_make|vf_model|vf_modelyear|mileage_bucket|\n+--------------------+----------+-----+--------+----------+-------+-----+---------+--------+--------------------+--------+--------+------------+--------------+\n|000491cd8e360805f...|2019-05-27| 3948|    3463|2019-06-13| 157458|false|   NISSAN|    5467|                    |  NISSAN|   Quest|        2006|          >80K|\n|0004d5cfd9641a932...|2018-12-23|28000|   28000|2019-01-25|  46547|false|     FORD|   27014|                    |    FORD|   F-150|        2015|    Btw 40-60k|\n|0004d5cfd9641a932...|2018-12-23|28000|   28000|2019-01-26|  46547|false|     FORD|   22260|                    |    FORD|   F-150|        2015|    Btw 40-60k|\n|0004d5cfd9641a932...|2018-12-24|28000|   28000|2019-01-26|  46547|false|     FORD|   24648|                    |    FORD|   F-150|        2015|    Btw 40-60k|\n|0004d5cfd9641a932...|2018-12-24|28000|   28000|2019-01-26|  46547|false|     FORD|   24666|                    |    FORD|   F-150|        2015|    Btw 40-60k|\n|0006bbacb21021d05...|2019-12-29|13995|   10936|2020-04-25|      0|false| CHRYSLER|   26384|                    |CHRYSLER|     200|        2017|     Btw 0-20k|\n|0006bbacb21021d05...|2019-12-29|13995|   10936|2020-04-25|      0|false| CHRYSLER|   37977|                    |CHRYSLER|     200|        2017|     Btw 0-20k|\n|000896fbfc5b684c9...|2019-06-12|15913|   15913|2019-07-29|      0|false|  HYUNDAI|    8494|                    | HYUNDAI|  Sonata|        2015|     Btw 0-20k|\n|0009b8a1fee5ab4a8...|2018-09-06|    0|       0|2018-09-11|      0|false|     FORD|    6972|                    |    FORD|Explorer|        2015|     Btw 0-20k|\n|0009b8a1fee5ab4a8...|2018-09-05|    0|       0|2018-09-11|      0|false|     FORD|   38744|                    |    FORD|Explorer|        2015|     Btw 0-20k|\n+--------------------+----------+-----+--------+----------+-------+-----+---------+--------+--------------------+--------+--------+------------+--------------+\nonly showing top 10 rows\n",
					"output_type": "stream"
				}
			]
		},
		{
			"cell_type": "markdown",
			"source": "#### For each vin, picking last seen record as sales record",
			"metadata": {}
		},
		{
			"cell_type": "code",
			"source": "windowSpec  = Window.partitionBy(\"vin\").orderBy(col(\"lastSeen\").desc(),col(\"askprice\").desc())\n\nsold_veh_df = used_veh_df.withColumn(\"rn\",row_number().over(windowSpec))\nsold_veh_df = sold_veh_df.filter(sold_veh_df.rn == 1).drop('rn')\nsold_veh_df.show(10)",
			"metadata": {
				"trusted": true
			},
			"execution_count": 12,
			"outputs": [
				{
					"name": "stdout",
					"text": "+--------------------+----------+-----+--------+----------+-------+-----+---------+--------+--------------------+---------+----------+------------+--------------+\n|                 vin| firstseen| msrp|askprice|  lastseen|mileage|isnew|brandname|dealerid|vf_destinationmarket|  vf_make|  vf_model|vf_modelyear|mileage_bucket|\n+--------------------+----------+-----+--------+----------+-------+-----+---------+--------+--------------------+---------+----------+------------+--------------+\n|000491cd8e360805f...|2019-05-27| 3948|    3463|2019-06-13| 157458|false|   NISSAN|    5467|                    |   NISSAN|     Quest|        2006|          >80K|\n|0004d5cfd9641a932...|2018-12-23|28000|   28000|2019-01-26|  46547|false|     FORD|   22260|                    |     FORD|     F-150|        2015|    Btw 40-60k|\n|0006bbacb21021d05...|2019-12-29|13995|   10936|2020-04-25|      0|false| CHRYSLER|   26384|                    | CHRYSLER|       200|        2017|     Btw 0-20k|\n|000896fbfc5b684c9...|2019-06-12|15913|   15913|2019-07-29|      0|false|  HYUNDAI|    8494|                    |  HYUNDAI|    Sonata|        2015|     Btw 0-20k|\n|0009b8a1fee5ab4a8...|2018-09-06|    0|       0|2018-09-11|      0|false|     FORD|    6972|                    |     FORD|  Explorer|        2015|     Btw 0-20k|\n|000bea1e2b3a850d9...|2019-12-16|    0|       0|2020-02-13|      0|false|CHEVROLET|   39367|                    |CHEVROLET|    Malibu|        2004|     Btw 0-20k|\n|000bf7cba0044f29e...|2020-05-17|10000|    9000|2020-05-20|      0|false|     FORD|   22260|                    |     FORD|      Edge|        2014|     Btw 0-20k|\n|000cbd1a8c4f60046...|2018-10-02|24878|   24878|2018-10-29|  41422|false|    DODGE|   22369|                    |    DODGE|Challenger|        2014|    Btw 40-60k|\n|000d10cdd5bab251f...|2019-07-17| 4994|    4012|2019-08-09| 158632|false|    HONDA|   12477|                    |    HONDA|   Odyssey|        2004|          >80K|\n|000d83bcdc88abca3...|2019-03-14|13989|   13989|2019-05-04|  35208|false|   TOYOTA|   36353|                    |   TOYOTA|   Corolla|        2017|    Btw 20-40k|\n+--------------------+----------+-----+--------+----------+-------+-----+---------+--------+--------------------+---------+----------+------------+--------------+\nonly showing top 10 rows\n",
					"output_type": "stream"
				}
			]
		},
		{
			"cell_type": "markdown",
			"source": "#### Load data into processed S3 bucket \n",
			"metadata": {
				"editable": true,
				"trusted": true
			}
		},
		{
			"cell_type": "code",
			"source": "try:\n    output_path = \"s3a://de-automotive-cleaned-ap-south-1/transformed_data\"\n    # Write the Spark DataFrame to S3 in Parquet format\n    sold_veh_df.write.mode(\"overwrite\").parquet(output_path)\n    # Stop the Spark session\n    spark.stop()\n    print('Transformed data loaded successfully in S3 Processed Bucket')\nexcept Exception as e:\n    print(e)",
			"metadata": {
				"trusted": true,
				"editable": true
			},
			"execution_count": 14,
			"outputs": [
				{
					"name": "stdout",
					"text": "Transformed data loaded successfully in S3 Processed Bucket\n",
					"output_type": "stream"
				}
			]
		}
	]
}